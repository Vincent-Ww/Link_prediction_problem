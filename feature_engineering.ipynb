{
 "cells": [
  {
   "cell_type": "code",
   "execution_count": 1,
   "metadata": {},
   "outputs": [],
   "source": [
    "import numpy as np\n",
    "from collections import defaultdict\n",
    "from itertools import combinations\n",
    "import networkx as nx\n",
    "from networkx.algorithms.link_prediction import *\n",
    "from networkx.algorithms.community.modularity_max import greedy_modularity_communities\n",
    "import pandas as pd\n",
    "from sklearn.svm import SVR\n",
    "from sklearn.linear_model import LogisticRegression\n",
    "from sklearn.preprocessing import StandardScaler\n",
    "import time"
   ]
  },
  {
   "cell_type": "code",
   "execution_count": 2,
   "metadata": {},
   "outputs": [],
   "source": [
    "pos_samples = np.load(\"data/pos_samples.npy\").tolist()\n",
    "neg_samples = np.load(\"data/neg_samples.npy\").tolist()"
   ]
  },
  {
   "cell_type": "code",
   "execution_count": 3,
   "metadata": {},
   "outputs": [],
   "source": [
    "train_set = []\n",
    "for edge in pos_samples:\n",
    "    train_set.append([edge[0], edge[1], 1])\n",
    "for edge in neg_samples:\n",
    "    train_set.append([edge[0], edge[1], 0])\n",
    "\n",
    "train_set = np.array(train_set)\n",
    "train_X = train_set[:, :2]\n",
    "train_y = train_set[:, 2]"
   ]
  },
  {
   "cell_type": "code",
   "execution_count": 4,
   "metadata": {},
   "outputs": [],
   "source": [
    "edge_ind_count = defaultdict(int)\n",
    "with open(\"./Data/train.txt\") as f:\n",
    "    total_line = 0\n",
    "    for line in f:\n",
    "        total_line+=1\n",
    "        nodes = list(map(int, line.strip('\\n').split(' ')))\n",
    "        for comb in combinations(nodes,2):\n",
    "            sorted_comb = tuple(sorted(comb))\n",
    "            edge_ind_count[sorted_comb] += 1"
   ]
  },
  {
   "cell_type": "code",
   "execution_count": 5,
   "metadata": {},
   "outputs": [],
   "source": [
    "graph = nx.Graph()\n",
    "\n",
    "for edge in edge_ind_count:\n",
    "    e1, e2 = edge\n",
    "    weight = edge_ind_count[edge]\n",
    "    for i in range(weight):\n",
    "        graph.add_edge(e1, e2)\n",
    "\n",
    "graph.remove_edges_from(nx.selfloop_edges(graph))"
   ]
  },
  {
   "cell_type": "code",
   "execution_count": 6,
   "metadata": {},
   "outputs": [],
   "source": [
    "rai_f = [rai for n1,n2,rai in resource_allocation_index(graph, train_X)]\n",
    "jc_f = [jc for n1,n2,jc in jaccard_coefficient(graph, train_X)]\n",
    "aai_f = [aai for n1,n2,aai in adamic_adar_index(graph, train_X)]\n",
    "pa_f = [pa for n1,n2,pa in preferential_attachment(graph, train_X)]"
   ]
  },
  {
   "cell_type": "code",
   "execution_count": 7,
   "metadata": {},
   "outputs": [],
   "source": [
    "community_list = greedy_modularity_communities(graph)\n",
    "\n",
    "for node in graph.nodes():\n",
    "    for i in range(len(community_list)):\n",
    "        community = community_list[i]\n",
    "        if node in community:\n",
    "            graph.nodes()[node][\"community\"] = i  "
   ]
  },
  {
   "cell_type": "code",
   "execution_count": 8,
   "metadata": {},
   "outputs": [],
   "source": [
    "csh_f = [csh for n1,n2,csh in cn_soundarajan_hopcroft(graph, train_X)]\n",
    "rsh_f = [rsh for n1,n2,rsh in ra_index_soundarajan_hopcroft(graph, train_X)]\n",
    "wic_f = [wic for n1,n2,wic in within_inter_cluster(graph, train_X)]"
   ]
  },
  {
   "cell_type": "code",
   "execution_count": 9,
   "metadata": {},
   "outputs": [
    {
     "data": {
      "text/plain": [
       "[1236, 1655, 1797, 2414, 2568, 3649, 3760]"
      ]
     },
     "execution_count": 9,
     "metadata": {},
     "output_type": "execute_result"
    }
   ],
   "source": [
    "sorted(nx.common_neighbors(graph,0,356))"
   ]
  },
  {
   "cell_type": "code",
   "execution_count": 10,
   "metadata": {
    "tags": []
   },
   "outputs": [],
   "source": [
    "sp_f = []\n",
    "dc_f1 = []\n",
    "dc_f2 = []\n",
    "c_f1 = []\n",
    "c_f2 = []\n",
    "cluster_f1 = []\n",
    "cluster_f2 = []\n",
    "avg_neigh_f1 = []\n",
    "avg_neigh_f2 = []\n",
    "kcore_f1 = []\n",
    "kcore_f2 = []\n",
    "load_f1 = []\n",
    "load_f2 = []\n",
    "close_f1 = []\n",
    "close_f2 = []\n",
    "cn_f =[] \n",
    "\n",
    "dc_g = nx.degree_centrality(graph)\n",
    "c_g = nx.eigenvector_centrality(graph)\n",
    "load_g = nx.load_centrality(graph)\n",
    "close_g = nx.closeness_centrality(graph)\n",
    "cluster_g = nx.algorithms.cluster.clustering(graph) \n",
    "kcore_g = nx.core_number(graph)\n",
    "avg_neigh_g = nx.average_neighbor_degree(graph)\n",
    "\n",
    "for i in train_X:\n",
    "    try:\n",
    "        cn=len(sorted(nx.common_neighbors(graph, i[0],i[1])))\n",
    "        sp=nx.shortest_path_length(graph,i[0],i[1])\n",
    "        dc1 = dc_g.get(i[0])\n",
    "        dc2 = dc_g.get(i[1])\n",
    "        c1 = c_g.get(i[0])\n",
    "        c2 = c_g.get(i[1])\n",
    "        cluster1 = cluster_g.get(i[0])\n",
    "        cluster2 = cluster_g.get(i[1])\n",
    "        avg_neigh1 = avg_neigh_g.get(i[0])\n",
    "        avg_neigh2 = avg_neigh_g.get(i[1])\n",
    "        kcore1 = kcore_g.get(i[0])\n",
    "        kcore2 = kcore_g.get(i[1])\n",
    "        load1 = load_g.get(i[0])\n",
    "        load2 = load_g.get(i[1])\n",
    "        close1 = close_g.get(i[0])\n",
    "        close2 = close_g.get(i[1])\n",
    "    except:\n",
    "        sp=0\n",
    "    sp_f.append(sp)\n",
    "    cn_f.append(cn)\n",
    "    dc_f1.append(dc1)\n",
    "    dc_f2.append(dc2)\n",
    "    c_f1.append(c1)\n",
    "    c_f2.append(c2)\n",
    "    cluster_f1.append(cluster1)\n",
    "    cluster_f2.append(cluster2)\n",
    "    avg_neigh_f1.append(avg_neigh1)\n",
    "    avg_neigh_f2.append(avg_neigh2)\n",
    "    kcore_f1.append(kcore1)\n",
    "    kcore_f2.append(kcore2)\n",
    "    load_f1.append(load1)\n",
    "    load_f2.append(load2)\n",
    "    close_f1.append(close1)\n",
    "    close_f2.append(close2)"
   ]
  },
  {
   "cell_type": "code",
   "execution_count": 11,
   "metadata": {},
   "outputs": [],
   "source": [
    "topo_train_X = pd.DataFrame({\"rai\":rai_f, \"jc\":jc_f, \"aai\":aai_f, \"pa\":pa_f, \"csh\":csh_f, \"rsh\":rsh_f, \"wic\":wic_f, \"cn_f\": cn_f, \"sp_f\": sp_f, \"dc_source\": dc_f1, \"dc_sink\":dc_f2, \"c_source\": c_f1, \"c_sink\":c_f2,\n",
    "\"cluster_source\": cluster_f1, \"cluster_sink\":cluster_f2,\n",
    "\"avg_neigh_source\": avg_neigh_f1, \"avg_neigh_sink\":avg_neigh_f2, \"kcore_source\": kcore_f1, \"kcore_sink\":kcore_f2,\"load_source\": load_f1, \"load_sink\":load_f2, \"close_source\": close_f1, \"close_sink\":close_f2})"
   ]
  },
  {
   "cell_type": "code",
   "execution_count": null,
   "metadata": {},
   "outputs": [],
   "source": []
  },
  {
   "cell_type": "code",
   "execution_count": 13,
   "metadata": {},
   "outputs": [],
   "source": [
    "test_set = pd.read_csv(\"Data/test-public.csv\")"
   ]
  },
  {
   "cell_type": "code",
   "execution_count": 14,
   "metadata": {},
   "outputs": [],
   "source": [
    "topo_test_X = []\n",
    "missing_indices = []\n",
    "all_training_nodes = list(graph.nodes())\n",
    "\n",
    "for i in range(len(test_set)):\n",
    "    idd, source, sink = test_set.iloc[i]\n",
    "    if source not in all_training_nodes or sink not in all_training_nodes:\n",
    "        topo_test_X.append([0 for _ in range(23)])\n",
    "        missing_indices.append(idd)\n",
    "        continue\n",
    "        \n",
    "    \n",
    "    features = [list(e)[0][2] for e in [resource_allocation_index(graph, [[source, sink]]), \n",
    "                jaccard_coefficient(graph, [[source, sink]]), \n",
    "                adamic_adar_index(graph, [[source, sink]]), \n",
    "                preferential_attachment(graph, [[source, sink]]),\n",
    "                cn_soundarajan_hopcroft(graph, [[source, sink]]),\n",
    "                ra_index_soundarajan_hopcroft(graph, [[source, sink]]),\n",
    "                within_inter_cluster(graph, [[source, sink]])\n",
    "            ]]\n",
    "    try:\n",
    "        cn=len(sorted(nx.common_neighbors(graph,source, sink)))\n",
    "        sp = nx.shortest_path_length(graph,source,sink)\n",
    "        dc1 = dc_g.get(source)\n",
    "        dc2 = dc_g.get(sink)\n",
    "        c1 = c_g.get(source)\n",
    "        c2 = c_g.get(sink)\n",
    "        cluster1 = cluster_g.get(source)\n",
    "        cluster2 = cluster_g.get(sink)\n",
    "        avg_neigh1 = avg_neigh_g.get(source)\n",
    "        avg_neigh2 = avg_neigh_g.get(sink)\n",
    "        kcore1 = kcore_g.get(source)\n",
    "        kcore2 = kcore_g.get(sink)\n",
    "        load1 = load_g.get(source)\n",
    "        load2 = load_g.get(sink)\n",
    "        close1 = close_g.get(source)\n",
    "        close2 = close_g.get(sink)\n",
    "    except:\n",
    "        sp=0\n",
    "    \n",
    "    features.append(cn)\n",
    "    features.append(sp)\n",
    "    features.append(dc1)\n",
    "    features.append(dc2)\n",
    "    features.append(c1)\n",
    "    features.append(c2)\n",
    "    features.append(cluster1)\n",
    "    features.append(cluster2)\n",
    "    features.append(avg_neigh1)\n",
    "    features.append(avg_neigh2)\n",
    "    features.append(kcore1)\n",
    "    features.append(kcore2)\n",
    "    features.append(load1)\n",
    "    features.append(load2)\n",
    "    features.append(close1)\n",
    "    features.append(close2)\n",
    "    topo_test_X.append(features)\n",
    "\n",
    "topo_test_X = pd.DataFrame(topo_test_X, columns=[\"rai\", \"jc\", \"aai\", \"pa\", \"csh\", \"rsh\", \"wic\", \"cn_f\", \"sp\",\"dc_source\", \"dc_sink\", \"c_source\", \"c_sink\", \"cluster_source\", \"cluster_sink\", \"avg_neigh_source\", \"avg_neigh_sink\", \"kcore_source\", \"kcore_sink\", \"load_source\", \"load_sink\", \"close_source\", \"close_sink\"])"
   ]
  },
  {
   "cell_type": "code",
   "execution_count": 15,
   "metadata": {},
   "outputs": [],
   "source": [
    "topo_train = topo_train_X.copy()\n",
    "topo_train[\"label\"] = train_y"
   ]
  },
  {
   "cell_type": "code",
   "execution_count": 16,
   "metadata": {},
   "outputs": [],
   "source": [
    "topo_train.to_csv(\"data/topo_train22.csv\", index=False)\n",
    "topo_test_X.to_csv(\"data/topo_test_X.csv\", index=False)"
   ]
  },
  {
   "cell_type": "code",
   "execution_count": null,
   "metadata": {},
   "outputs": [],
   "source": []
  }
 ],
 "metadata": {
  "kernelspec": {
   "display_name": "Python 3",
   "language": "python",
   "name": "python3"
  },
  "language_info": {
   "codemirror_mode": {
    "name": "ipython",
    "version": 3
   },
   "file_extension": ".py",
   "mimetype": "text/x-python",
   "name": "python",
   "nbconvert_exporter": "python",
   "pygments_lexer": "ipython3",
   "version": "3.8.3"
  }
 },
 "nbformat": 4,
 "nbformat_minor": 4
}
