{
 "cells": [
  {
   "cell_type": "code",
   "execution_count": null,
   "metadata": {},
   "outputs": [],
   "source": [
    "# neural network"
   ]
  },
  {
   "cell_type": "code",
   "execution_count": 1,
   "metadata": {},
   "outputs": [],
   "source": [
    "from sklearn.model_selection import train_test_split\n",
    "from sklearn.preprocessing import StandardScaler\n",
    "import numpy as np\n",
    "import tensorflow as tf\n",
    "from keras.models import Sequential\n",
    "from keras.models import Sequential\n",
    "from keras.layers import Dense,Dropout\n",
    "from keras.layers import Dense\n",
    "from keras.optimizers import Adam\n",
    "from keras.initializers import RandomUniform,Constant\n",
    "from keras import metrics\n",
    "import numpy as np\n",
    "import pandas as pd\n",
    "from sklearn.svm import SVR\n",
    "from sklearn.svm import SVC\n",
    "from sklearn.linear_model import LogisticRegression\n",
    "from sklearn.preprocessing import StandardScaler\n",
    "import time\n",
    "from joblib import dump, load"
   ]
  },
  {
   "cell_type": "code",
   "execution_count": 3,
   "metadata": {},
   "outputs": [],
   "source": [
    "topo_train = pd.read_csv(\"data/topo_train22.csv\")\n",
    "topo_test_X = pd.read_csv(\"data/topo_test_X.csv\")\n",
    "\n",
    "topo_train_X = topo_train.iloc[:, :-1]\n",
    "train_y = topo_train.iloc[:, -1]"
   ]
  },
  {
   "cell_type": "code",
   "execution_count": 4,
   "metadata": {},
   "outputs": [],
   "source": [
    "x_train, x_valid, y_train, y_valid = train_test_split(topo_train_X, train_y, test_size = 0.3, random_state = 0)"
   ]
  },
  {
   "cell_type": "code",
   "execution_count": 5,
   "metadata": {},
   "outputs": [],
   "source": [
    "sc = StandardScaler()\n",
    "x_train = sc.fit_transform(x_train)\n",
    "x_valid = sc.transform(x_valid)"
   ]
  },
  {
   "cell_type": "code",
   "execution_count": 6,
   "metadata": {},
   "outputs": [],
   "source": [
    "adam = Adam(lr=0.001, beta_1=0.95, beta_2=0.999, epsilon=1e-08)\n",
    "random_initializer = RandomUniform(minval=-0.005, maxval=0.005)\n",
    "bias_init = Constant(value=0.001)"
   ]
  },
  {
   "cell_type": "code",
   "execution_count": 7,
   "metadata": {},
   "outputs": [],
   "source": [
    "# hypermeters objects\n",
    "batch_size = 10\n",
    "EPOCHS=30\n",
    "\n",
    "# define the network\n",
    "model = Sequential()\n",
    "model.add(Dense(512, input_dim=x_train.shape[1], use_bias=True, kernel_initializer=random_initializer,\n",
    "                activation='relu',bias_initializer=bias_init))\n",
    "model.add(Dropout(0.2))\n",
    "model.add(Dense(512, use_bias=True, kernel_initializer=random_initializer, activation='relu',\n",
    "                bias_initializer=bias_init))\n",
    "model.add(Dropout(0.2))\n",
    "model.add(Dense(1, use_bias=False, kernel_initializer=random_initializer))\n",
    "model.add(Dense(1, use_bias=False, kernel_initializer=random_initializer,activation='sigmoid'))\n",
    "\n",
    "\n",
    "model.compile(optimizer=adam, loss='binary_crossentropy', metrics=[\"accuracy\"])"
   ]
  },
  {
   "cell_type": "code",
   "execution_count": 8,
   "metadata": {
    "scrolled": true
   },
   "outputs": [
    {
     "name": "stdout",
     "output_type": "stream",
     "text": [
      "Epoch 1/30\n",
      "2945/2945 [==============================] - 7s 2ms/step - loss: 0.1040 - accuracy: 0.9587 - val_loss: 0.0630 - val_accuracy: 0.9733\n",
      "Epoch 2/30\n",
      "2945/2945 [==============================] - 7s 2ms/step - loss: 0.0300 - accuracy: 0.9902 - val_loss: 0.0181 - val_accuracy: 0.9948\n",
      "Epoch 3/30\n",
      "2945/2945 [==============================] - 8s 3ms/step - loss: 0.0076 - accuracy: 0.9979 - val_loss: 0.0021 - val_accuracy: 0.9997\n",
      "Epoch 4/30\n",
      "2945/2945 [==============================] - 7s 2ms/step - loss: 0.0038 - accuracy: 0.9991 - val_loss: 0.0134 - val_accuracy: 0.9950\n",
      "Epoch 5/30\n",
      "2945/2945 [==============================] - 7s 2ms/step - loss: 0.0046 - accuracy: 0.9989 - val_loss: 0.0020 - val_accuracy: 0.9992\n",
      "Epoch 6/30\n",
      "2945/2945 [==============================] - 6s 2ms/step - loss: 0.0035 - accuracy: 0.9993 - val_loss: 0.0138 - val_accuracy: 0.9976\n",
      "Epoch 7/30\n",
      "2945/2945 [==============================] - 7s 2ms/step - loss: 0.0016 - accuracy: 0.9997 - val_loss: 0.0028 - val_accuracy: 0.9994\n",
      "Epoch 8/30\n",
      "2945/2945 [==============================] - 7s 2ms/step - loss: 0.0031 - accuracy: 0.9993 - val_loss: 3.6479e-05 - val_accuracy: 1.0000\n",
      "Epoch 9/30\n",
      "2945/2945 [==============================] - 7s 2ms/step - loss: 0.0017 - accuracy: 0.9993 - val_loss: 3.0395e-05 - val_accuracy: 1.0000\n",
      "Epoch 10/30\n",
      "2945/2945 [==============================] - 8s 3ms/step - loss: 0.0020 - accuracy: 0.9995 - val_loss: 0.0033 - val_accuracy: 0.9987\n",
      "Epoch 11/30\n",
      "2945/2945 [==============================] - 10s 3ms/step - loss: 0.0025 - accuracy: 0.9994 - val_loss: 5.2289e-04 - val_accuracy: 0.9998\n",
      "Epoch 12/30\n",
      "2945/2945 [==============================] - 10s 3ms/step - loss: 0.0024 - accuracy: 0.9996 - val_loss: 3.0693e-04 - val_accuracy: 0.9999\n",
      "Epoch 13/30\n",
      "2945/2945 [==============================] - 8s 3ms/step - loss: 0.0012 - accuracy: 0.9998 - val_loss: 6.3865e-06 - val_accuracy: 1.0000\n",
      "Epoch 14/30\n",
      "2945/2945 [==============================] - 8s 3ms/step - loss: 0.0014 - accuracy: 0.9996 - val_loss: 3.3107e-04 - val_accuracy: 0.9999\n",
      "Epoch 15/30\n",
      "2945/2945 [==============================] - 8s 3ms/step - loss: 0.0013 - accuracy: 0.9998 - val_loss: 3.9239e-04 - val_accuracy: 0.9999\n",
      "Epoch 16/30\n",
      "2945/2945 [==============================] - 10s 3ms/step - loss: 9.3295e-05 - accuracy: 1.0000 - val_loss: 1.1600e-04 - val_accuracy: 0.9999\n",
      "Epoch 17/30\n",
      "2945/2945 [==============================] - 8s 3ms/step - loss: 0.0027 - accuracy: 0.9995 - val_loss: 3.0974e-04 - val_accuracy: 0.9999\n",
      "Epoch 18/30\n",
      "2945/2945 [==============================] - 8s 3ms/step - loss: 0.0019 - accuracy: 0.9993 - val_loss: 0.0067 - val_accuracy: 0.9984\n",
      "Epoch 19/30\n",
      "2945/2945 [==============================] - 10s 3ms/step - loss: 7.0186e-04 - accuracy: 0.9998 - val_loss: 4.8800e-05 - val_accuracy: 1.0000\n",
      "Epoch 20/30\n",
      "2945/2945 [==============================] - 8s 3ms/step - loss: 7.3673e-04 - accuracy: 0.9999 - val_loss: 3.4722e-04 - val_accuracy: 0.9999\n",
      "Epoch 21/30\n",
      "2945/2945 [==============================] - 8s 3ms/step - loss: 4.9350e-04 - accuracy: 0.9999 - val_loss: 2.3938e-07 - val_accuracy: 1.0000\n",
      "Epoch 22/30\n",
      "2945/2945 [==============================] - 9s 3ms/step - loss: 3.0565e-04 - accuracy: 0.9999 - val_loss: 0.0018 - val_accuracy: 0.9995\n",
      "Epoch 23/30\n",
      "2945/2945 [==============================] - 8s 3ms/step - loss: 0.0024 - accuracy: 0.9995 - val_loss: 0.0036 - val_accuracy: 0.9994\n",
      "Epoch 24/30\n",
      "2945/2945 [==============================] - 9s 3ms/step - loss: 8.5122e-04 - accuracy: 0.9997 - val_loss: 8.7330e-06 - val_accuracy: 1.0000\n",
      "Epoch 25/30\n",
      "2945/2945 [==============================] - 11s 4ms/step - loss: 0.0013 - accuracy: 0.9998 - val_loss: 6.7317e-06 - val_accuracy: 1.0000\n",
      "Epoch 26/30\n",
      "2945/2945 [==============================] - 9s 3ms/step - loss: 0.0018 - accuracy: 0.9997 - val_loss: 6.4366e-05 - val_accuracy: 0.9999\n",
      "Epoch 27/30\n",
      "2945/2945 [==============================] - 7s 2ms/step - loss: 4.1407e-04 - accuracy: 0.9999 - val_loss: 1.8637e-05 - val_accuracy: 1.0000\n",
      "Epoch 28/30\n",
      "2945/2945 [==============================] - 8s 3ms/step - loss: 9.9066e-04 - accuracy: 0.9997 - val_loss: 4.5112e-06 - val_accuracy: 1.0000\n",
      "Epoch 29/30\n",
      "2945/2945 [==============================] - 9s 3ms/step - loss: 4.7654e-04 - accuracy: 0.9999 - val_loss: 6.1213e-07 - val_accuracy: 1.0000\n",
      "Epoch 30/30\n",
      "2945/2945 [==============================] - 9s 3ms/step - loss: 7.6882e-04 - accuracy: 0.9998 - val_loss: 3.3198e-04 - val_accuracy: 0.9999\n"
     ]
    }
   ],
   "source": [
    "history = model.fit(x_train,\n",
    "                    np.array(y_train),\n",
    "                    shuffle=True,\n",
    "                    epochs=EPOCHS,\n",
    "                    batch_size=batch_size,\n",
    "                    validation_data=(x_valid, y_valid),\n",
    "                    )"
   ]
  },
  {
   "cell_type": "code",
   "execution_count": 9,
   "metadata": {},
   "outputs": [],
   "source": [
    "x_test = sc.transform(topo_test_X)\n",
    "\n",
    "predictions = model.predict(x_test)"
   ]
  },
  {
   "cell_type": "code",
   "execution_count": 12,
   "metadata": {},
   "outputs": [],
   "source": [
    "result = pd.DataFrame({\"Id\":range(1,2001), \"Predicted\": predictions.flatten()})\n",
    "result.to_csv(\"models/ffnn.csv\", index=False)"
   ]
  },
  {
   "cell_type": "code",
   "execution_count": null,
   "metadata": {},
   "outputs": [],
   "source": []
  }
 ],
 "metadata": {
  "kernelspec": {
   "display_name": "Python [conda env:root] *",
   "language": "python",
   "name": "conda-root-py"
  },
  "language_info": {
   "codemirror_mode": {
    "name": "ipython",
    "version": 3
   },
   "file_extension": ".py",
   "mimetype": "text/x-python",
   "name": "python",
   "nbconvert_exporter": "python",
   "pygments_lexer": "ipython3",
   "version": "3.8.3"
  }
 },
 "nbformat": 4,
 "nbformat_minor": 5
}
