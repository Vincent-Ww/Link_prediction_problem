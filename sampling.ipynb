{
 "cells": [
  {
   "cell_type": "code",
   "execution_count": 3,
   "metadata": {},
   "outputs": [],
   "source": [
    "import numpy as np\n",
    "from itertools import combinations\n",
    "from collections import defaultdict\n",
    "import random\n",
    "from sklearn.svm import SVR\n",
    "from sklearn.linear_model import LogisticRegression\n",
    "import time\n",
    "from joblib import dump, load\n",
    "import networkx as nx"
   ]
  },
  {
   "cell_type": "code",
   "execution_count": 4,
   "metadata": {},
   "outputs": [],
   "source": [
    "edge_ind_count = defaultdict(int)\n",
    "all_nodes = set()\n",
    "with open(\"./Data/train.txt\") as f:\n",
    "    total_line = 0\n",
    "    for line in f:\n",
    "        total_line+=1\n",
    "        nodes = list(map(int, line.strip('\\n').split(' ')))\n",
    "        for node in nodes:\n",
    "            all_nodes.add(node)\n",
    "        for comb in combinations(nodes,2):\n",
    "            sorted_comb = tuple(sorted(comb))\n",
    "            edge_ind_count[sorted_comb] += 1\n",
    "\n",
    "all_nodes = list(all_nodes)"
   ]
  },
  {
   "cell_type": "code",
   "execution_count": 5,
   "metadata": {},
   "outputs": [],
   "source": [
    "pos_samples = list(edge_ind_count.keys())\n",
    "\n",
    "neg_pos_ratio = 1\n",
    "\n",
    "\n",
    "neg_samples = []\n",
    "for i in range(len(pos_samples)):\n",
    "    while True:\n",
    "        node1 = random.choice(all_nodes)\n",
    "        node2 = random.choice(all_nodes)\n",
    "        edge = tuple(sorted([node1, node2]))\n",
    "        if edge not in pos_samples and node1 != node2:\n",
    "            neg_samples.append(edge)\n",
    "            break"
   ]
  },
  {
   "cell_type": "code",
   "execution_count": 6,
   "metadata": {},
   "outputs": [
    {
     "name": "stdout",
     "output_type": "stream",
     "text": [
      "length of positive samples: 16036\n",
      "length of negative samples: 16036\n"
     ]
    }
   ],
   "source": [
    "print(\"length of positive samples: {}\".format(len(pos_samples)))\n",
    "print(\"length of negative samples: {}\".format(len(neg_samples)))"
   ]
  },
  {
   "cell_type": "code",
   "execution_count": 7,
   "metadata": {},
   "outputs": [],
   "source": [
    "# save\n",
    "np.save(\"data/pos_samples\", np.array(pos_samples))\n",
    "np.save(\"data/neg_samples\", np.array(neg_samples))"
   ]
  },
  {
   "cell_type": "code",
   "execution_count": null,
   "metadata": {},
   "outputs": [],
   "source": []
  },
  {
   "cell_type": "code",
   "execution_count": null,
   "metadata": {},
   "outputs": [],
   "source": []
  },
  {
   "cell_type": "code",
   "execution_count": null,
   "metadata": {},
   "outputs": [],
   "source": []
  },
  {
   "cell_type": "code",
   "execution_count": null,
   "metadata": {},
   "outputs": [],
   "source": []
  },
  {
   "cell_type": "code",
   "execution_count": null,
   "metadata": {},
   "outputs": [],
   "source": []
  },
  {
   "cell_type": "code",
   "execution_count": 6,
   "metadata": {},
   "outputs": [],
   "source": [
    "train_set = []\n",
    "for edge in pos_samples:\n",
    "    train_set.append([edge[0], edge[1], 1])\n",
    "for edge in neg_samples:\n",
    "    train_set.append([edge[0], edge[1], 0])"
   ]
  },
  {
   "cell_type": "code",
   "execution_count": 78,
   "metadata": {},
   "outputs": [],
   "source": [
    "node_emb = {}\n",
    "with open(\"embedding/emb64_p0.5q2.txt\", \"r\") as f:\n",
    "    next(f)\n",
    "    for line in f:\n",
    "        nums = line.strip().split(\" \")\n",
    "        node_id = int(nums[0])\n",
    "        emb = list(map(float, nums[1:]))\n",
    "        node_emb[node_id] = emb"
   ]
  },
  {
   "cell_type": "code",
   "execution_count": 79,
   "metadata": {},
   "outputs": [],
   "source": [
    "emb_train_set = []\n",
    "emb_train_X = []\n",
    "emb_train_Y = []\n",
    "\n",
    "\n",
    "for n1, n2, label in train_set:\n",
    "    features = node_emb[n1] + node_emb[n2]\n",
    "    emb_train_set.append(features + [label])\n",
    "    emb_train_X.append(features)\n",
    "    emb_train_Y.append(label)"
   ]
  },
  {
   "cell_type": "code",
   "execution_count": 80,
   "metadata": {},
   "outputs": [],
   "source": [
    "import pandas as pd\n",
    "test_set = pd.read_csv(\"Data/test-public.csv\")"
   ]
  },
  {
   "cell_type": "code",
   "execution_count": 81,
   "metadata": {},
   "outputs": [],
   "source": [
    "emb_test_X = []\n",
    "missing_indices = []\n",
    "\n",
    "for i in range(len(test_set)):\n",
    "    idd, source, sink = test_set.iloc[i]\n",
    "    if source not in node_emb or sink not in node_emb:\n",
    "        emb_test_X.append([0 for _ in range(128)])\n",
    "        missing_indices.append(idd)\n",
    "        continue\n",
    "    emb_source = node_emb[source]\n",
    "    emb_sink = node_emb[sink]\n",
    "    features = emb_source + emb_sink\n",
    "    emb_test_X.append(features)"
   ]
  }
 ],
 "metadata": {
  "kernelspec": {
   "display_name": "Python 3",
   "language": "python",
   "name": "python3"
  },
  "language_info": {
   "codemirror_mode": {
    "name": "ipython",
    "version": 3
   },
   "file_extension": ".py",
   "mimetype": "text/x-python",
   "name": "python",
   "nbconvert_exporter": "python",
   "pygments_lexer": "ipython3",
   "version": "3.8.3"
  }
 },
 "nbformat": 4,
 "nbformat_minor": 4
}
